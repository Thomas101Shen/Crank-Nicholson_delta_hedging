{

2	+
 "cells": [
3	+
  {
4	+
   "cell_type": "code",
5	+
   "execution_count": null,
6	+
   "id": "50f8e2f1",
7	+
   "metadata": {},
8	+
   "outputs": [],
9	+
   "source": [
10	+
    "import pandas as pd\n",
11	+
    "import numpy as np\n",
12	+
    "from scipy.optimize import bisect\n",
13	+
    "from scipy.stats import norm"
14	+
   ]
15	+
  },
16	+
  {
17	+
   "cell_type": "code",
18	+
   "execution_count": null,
19	+
   "id": "4cff1f05",
20	+
   "metadata": {},
21	+
   "outputs": [],
22	+
   "source": [
23	+
    "# Load the data file\n",
24	+
    "file_path = './Options_SPX.csv'\n",
25	+
    "data = pd.read_csv(file_path)\n",
26	+
    "\n",
27	+
    "# Black-Scholes call option pricing formula\n",
28	+
    "# Removed Crank-Nicholson and replaced with Binomial Tree method for pricing\n",
29	+
    "\n",
30	+
    "def binomial_tree_call_price(S, K, T, r, sigma, N=100):\n",
31	+
    "    dt = T / N  # Time step size\n",
32	+
    "    u = np.exp(sigma * np.sqrt(dt))  # Up factor\n",
33	+
    "    d = 1 / u  # Down factor\n",
34	+
    "    p = (np.exp(r * dt) - d) / (u - d)  # Risk-neutral probability\n",
35	+
    "\n",
36	+
    "    # Initialize asset prices at maturity\n",
37	+
    "    asset_prices = np.zeros(N + 1)\n",
38	+
    "    for i in range(N + 1):\n",
39	+
    "        asset_prices[i] = S * (u ** (N - i)) * (d ** i)\n",
40	+
    "\n",
41	+
    "    # Initialize option values at maturity\n",
42	+
    "    option_values = np.maximum(asset_prices - K, 0)\n",
43	+
    "\n",
44	+
    "    # Backward induction to calculate option value at t=0\n",
45	+
    "    for j in range(N - 1, -1, -1):\n",
46	+
    "        for i in range(j + 1):\n",
47	+
    "            option_values[i] = np.exp(-r * dt) * (p * option_values[i] + (1 - p) * option_values[i + 1])\n",
48	+
    "\n",
49	+
    "    return option_values[0]\n",
50	+
    "\n",
51	+
    "# Function to calculate implied volatility\n",
52	+
    "def implied_volatility(C_mkt, S, K, T, r):\n",
53	+
    "    def objective(sigma):\n",
54	+
    "        return binomial_tree_call_price(S, K, T, r, sigma) - C_mkt\n",
55	+
    "    try:\n",
56	+
    "        return bisect(objective, 1e-6, 5)  # Searching for sigma in a reasonable range\n",
57	+
    "    except ValueError:\n",
58	+
    "        return np.nan\n",
59	+
    "\n",
60	+
    "# Initialize strategy variables\n",
61	+
    "position = 0  # Current asset position\n",
62	+
    "cash = 0      # Cash balance\n",
63	+
    "portfolio_values = []  # Store portfolio values over time\n",
64	+
    "predicted_prices = []  # Store predicted option prices\n",
65	+
    "\n",
66	+
    "# Use a dynamic window of 5 rows for prediction and hedging\n",
67	+
    "window_size = 5\n",
68	+
    "for start in range(0, len(data), window_size):\n",
69	+
    "    window_data = data[start:start + window_size]\n",
70	+
    "    if len(window_data) < window_size:\n",
71	+
    "        break  # Skip incomplete windows\n",
72	+
    "\n",
73	+
    "    for i, row in window_data.iterrows():\n",
74	+
    "        S = row['S']  # Current stock price\n",
75	+
    "        K = S * np.exp(-row['Moneyness'] / 100)  # Calculate strike price based on Moneyness\n",
76	+
    "        T = row['TTM'] / 252  # Convert time to expiration to years\n",
77	+
    "        r = row['R'] / 100  # Convert interest rate to decimal\n",
78	+
    "        C_mkt = row['C_mkt']  # Market option price\n",
79	+
    "\n",
80	+
    "        # Calculate implied volatility\n",
81	+
    "        sigma = implied_volatility(C_mkt, S, K, T, r)\n",
82	+
    "\n",
83	+
    "        # Skip this row if implied volatility could not be calculated\n",
84	+
    "        if np.isnan(sigma):\n",
85	+
    "            continue\n",
86	+
    "\n",
87	+
    "        # Calculate Delta using Binomial Tree method\n",
88	+
    "        epsilon = 1e-4  # Small change for Delta calculation\n",
89	+
    "        V_up = binomial_tree_call_price(S * (1 + epsilon), K, T, r, sigma)\n",
90	+
    "        V_down = binomial_tree_call_price(S * (1 - epsilon), K, T, r, sigma)\n",
91	+
    "        delta = (V_up - V_down) / (2 * S * epsilon)\n",
92	+
    "\n",
93	+
    "        # Calculate predicted option price using Binomial Tree method\n",
94	+
    "        predicted_price = binomial_tree_call_price(S, K, T, r, sigma)\n",
95	+
    "        predicted_prices.append(predicted_price)\n",
96	+
    "\n",
97	+
    "        # Determine the target position based on Delta\n",
98	+
    "        target_position = -delta\n",
99	+
    "        position_change = target_position - position\n",
100	+
    "\n",
101	+
    "        # Update cash and asset position\n",
102	+
    "        cash -= position_change * S\n",
103	+
    "        position = target_position\n",
104	+
    "\n",
105	+
    "        # Record portfolio value\n",
106	+
    "        portfolio_values.append(position * S + cash)\n",
107	+
    "\n",
108	+
    "# Convert portfolio values to a DataFrame for further analysis\n",
109	+
    "portfolio_values = pd.DataFrame(portfolio_values, columns=['Portfolio Value'])\n",
110	+
    "\n",
111	+
    "# Print predicted prices\n",
112	+
    "predicted_prices_df = pd.DataFrame(predicted_prices, columns=['Predicted Price'])\n",
113	+
    "print(predicted_prices_df)\n",
114	+
    "\n",
115	+
    "# Calculate risk metrics\n",
116	+
    "portfolio_values['Returns'] = portfolio_values['Portfolio Value'].pct_change().dropna()\n",
117	+
    "volatility = portfolio_values['Returns'].std()  # Calculate return volatility\n",
118	+
    "cumulative_returns = (1 + portfolio_values['Returns']).cumprod()\n",
119	+
    "drawdown = cumulative_returns.cummax() - cumulative_returns  # Calculate drawdown\n",
120	+
    "max_drawdown = drawdown.max()\n",
121	+
    "\n",
122	+
    "# Output risk metrics\n",
123	+
    "volatility, max_drawdown"
124	+
   ]
125	+
  }
126	+
 ],
127	+
 "metadata": {
128	+
  "kernelspec": {
129	+
   "display_name": "Python 3 (ipykernel)",
130	+
   "language": "python",
131	+
   "name": "python3"
132	+
  },
133	+
  "language_info": {
134	+
   "codemirror_mode": {
135	+
    "name": "ipython",
136	+
    "version": 3
137	+
   },
138	+
   "file_extension": ".py",
139	+
   "mimetype": "text/x-python",
140	+
   "name": "python",
141	+
   "nbconvert_exporter": "python",
142	+
   "pygments_lexer": "ipython3",
143	+
   "version": "3.9.7"
144	+
  }
145	+
 },
146	+
 "nbformat": 4,
147	+
 "nbformat_minor": 5
148	+
}
