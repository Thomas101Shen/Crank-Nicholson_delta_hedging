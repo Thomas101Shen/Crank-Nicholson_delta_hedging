{
 "cells": [
  {
   "cell_type": "code",
   "execution_count": 2,
   "id": "50f8e2f1",
   "metadata": {},
   "outputs": [],
   "source": [
    "import pandas as pd\n",
    "import numpy as np\n",
    "from scipy.optimize import bisect\n",
    "from scipy.stats import norm"
   ]
  },
  {
   "cell_type": "code",
   "execution_count": 4,
   "id": "4cff1f05",
   "metadata": {},
   "outputs": [
    {
     "name": "stderr",
     "output_type": "stream",
     "text": [
      "/var/folders/bn/0_n9dq9s6m51l0sffgs_yvtw0000gn/T/ipykernel_5255/1485446068.py:25: RuntimeWarning: overflow encountered in scalar multiply\n",
      "  option_values[i] = np.exp(-r * dt) * (p * option_values[i] + (1 - p) * option_values[i + 1])\n",
      "/var/folders/bn/0_n9dq9s6m51l0sffgs_yvtw0000gn/T/ipykernel_5255/1485446068.py:25: RuntimeWarning: invalid value encountered in scalar add\n",
      "  option_values[i] = np.exp(-r * dt) * (p * option_values[i] + (1 - p) * option_values[i + 1])\n",
      "/var/folders/bn/0_n9dq9s6m51l0sffgs_yvtw0000gn/T/ipykernel_5255/1485446068.py:25: RuntimeWarning: overflow encountered in scalar add\n",
      "  option_values[i] = np.exp(-r * dt) * (p * option_values[i] + (1 - p) * option_values[i + 1])\n"
     ]
    },
    {
     "name": "stdout",
     "output_type": "stream",
     "text": [
      "   Predicted Price\n",
      "0           147.20\n",
      "1           125.90\n",
      "2           111.85\n",
      "3           153.75\n",
      "4           145.55\n",
      "         Date  ID  Days until next hedge        S  Dividend        C_BS  \\\n",
      "0  2024/08/05   1                      1  5186.33    1.4816  125.615076   \n",
      "1  2024/08/06   1                      1  5240.03    1.4665  120.416043   \n",
      "2  2024/08/07   1                      1  5199.50    1.4786  106.223538   \n",
      "3  2024/08/08   1                      1  5319.31    1.4450  139.557618   \n",
      "4  2024/08/09   1                      3  5344.16    1.4383  134.699810   \n",
      "\n",
      "       D_BS   C_mkt  D_Blm        R  TTM  Moneyness  D_Optimal    Target     K  \n",
      "0  0.308576  147.20  0.339  4.95853  228       -514  -0.398225 -0.706801  5700  \n",
      "1  0.317215  125.90  0.330  4.95203  227       -460   0.344879  0.027664  5700  \n",
      "2  0.291429  111.85  0.312  4.85962  226       -501   0.350350  0.058922  5700  \n",
      "3  0.357376  153.75  0.380  4.95040  225       -381  -0.332813 -0.690190  5700  \n",
      "4  0.362407  145.55  0.379  4.97276  224       -356   2.613517  2.251110  5700  \n"
     ]
    },
    {
     "name": "stderr",
     "output_type": "stream",
     "text": [
      "/Users/jacksparrow/NYU_schoolwork/2024/quant_methods/Crank-Nicholson_delta_hedging/venv/lib/python3.13/site-packages/pandas/core/nanops.py:1016: RuntimeWarning: invalid value encountered in subtract\n",
      "  sqr = _ensure_numeric((avg - values) ** 2)\n",
      "/Users/jacksparrow/NYU_schoolwork/2024/quant_methods/Crank-Nicholson_delta_hedging/venv/lib/python3.13/site-packages/numpy/_core/fromnumeric.py:57: RuntimeWarning: invalid value encountered in accumulate\n",
      "  return bound(*args, **kwds)\n"
     ]
    },
    {
     "data": {
      "text/plain": [
       "(np.float64(nan), np.float64(inf))"
      ]
     },
     "execution_count": 4,
     "metadata": {},
     "output_type": "execute_result"
    }
   ],
   "source": [
    "# Load the data file\n",
    "file_path = './SPX_hedging.csv'\n",
    "data = pd.read_csv(file_path)\n",
    "\n",
    "# Black-Scholes call option pricing formula\n",
    "# Removed Crank-Nicholson and replaced with Binomial Tree method for pricing\n",
    "\n",
    "def binomial_tree_call_price(S, K, T, r, sigma, N=100):\n",
    "    dt = T / N  # Time step size\n",
    "    u = np.exp(sigma * np.sqrt(dt))  # Up factor\n",
    "    d = 1 / u  # Down factor\n",
    "    p = (np.exp(r * dt) - d) / (u - d)  # Risk-neutral probability\n",
    "\n",
    "    # Initialize asset prices at maturity\n",
    "    asset_prices = np.zeros(N + 1)\n",
    "    for i in range(N + 1):\n",
    "        asset_prices[i] = S * (u ** (N - i)) * (d ** i)\n",
    "\n",
    "    # Initialize option values at maturity\n",
    "    option_values = np.maximum(asset_prices - K, 0)\n",
    "\n",
    "    # Backward induction to calculate option value at t=0\n",
    "    for j in range(N - 1, -1, -1):\n",
    "        for i in range(j + 1):\n",
    "            option_values[i] = np.exp(-r * dt) * (p * option_values[i] + (1 - p) * option_values[i + 1])\n",
    "\n",
    "    return option_values[0]\n",
    "\n",
    "# Function to calculate implied volatility\n",
    "def implied_volatility(C_mkt, S, K, T, r):\n",
    "    def objective(sigma):\n",
    "        return binomial_tree_call_price(S, K, T, r, sigma) - C_mkt\n",
    "    try:\n",
    "        return bisect(objective, 1e-6, 5)  # Searching for sigma in a reasonable range\n",
    "    except ValueError:\n",
    "        return np.nan\n",
    "\n",
    "# Initialize strategy variables\n",
    "position = 0  # Current asset position\n",
    "cash = 0      # Cash balance\n",
    "portfolio_values = []  # Store portfolio values over time\n",
    "predicted_prices = []  # Store predicted option prices\n",
    "\n",
    "# Use a dynamic window of 5 rows for prediction and hedging\n",
    "window_size = 5\n",
    "for start in range(0, len(data), window_size):\n",
    "    window_data = data[start:start + window_size]\n",
    "    if len(window_data) < window_size:\n",
    "        break  # Skip incomplete windows\n",
    "\n",
    "    for i, row in window_data.iterrows():\n",
    "        S = row['S']  # Current stock price\n",
    "        K = S * np.exp(-row['Moneyness'] / 100)  # Calculate strike price based on Moneyness\n",
    "        T = row['TTM'] / 252  # Convert time to expiration to years\n",
    "        r = row['R'] / 100  # Convert interest rate to decimal\n",
    "        C_mkt = row['C_mkt']  # Market option price\n",
    "\n",
    "        # Calculate implied volatility\n",
    "        sigma = implied_volatility(C_mkt, S, K, T, r)\n",
    "\n",
    "        # Skip this row if implied volatility could not be calculated\n",
    "        if np.isnan(sigma):\n",
    "            continue\n",
    "\n",
    "        # Calculate Delta using Binomial Tree method\n",
    "        epsilon = 1e-4  # Small change for Delta calculation\n",
    "        V_up = binomial_tree_call_price(S * (1 + epsilon), K, T, r, sigma)\n",
    "        V_down = binomial_tree_call_price(S * (1 - epsilon), K, T, r, sigma)\n",
    "        delta = (V_up - V_down) / (2 * S * epsilon)\n",
    "\n",
    "        # Calculate predicted option price using Binomial Tree method\n",
    "        predicted_price = binomial_tree_call_price(S, K, T, r, sigma)\n",
    "        predicted_prices.append(predicted_price)\n",
    "\n",
    "        # Determine the target position based on Delta\n",
    "        target_position = -delta\n",
    "        position_change = target_position - position\n",
    "\n",
    "        # Update cash and asset position\n",
    "        cash -= position_change * S\n",
    "        position = target_position\n",
    "\n",
    "        # Record portfolio value\n",
    "        portfolio_values.append(position * S + cash)\n",
    "\n",
    "# Convert portfolio values to a DataFrame for further analysis\n",
    "portfolio_values = pd.DataFrame(portfolio_values, columns=['Portfolio Value'])\n",
    "\n",
    "# Print predicted prices\n",
    "predicted_prices_df = pd.DataFrame(predicted_prices, columns=['Predicted Price'])\n",
    "print(predicted_prices_df.head())\n",
    "print(data.head())\n",
    "\n",
    "# Calculate risk metrics\n",
    "portfolio_values['Returns'] = portfolio_values['Portfolio Value'].pct_change().dropna()\n",
    "volatility = portfolio_values['Returns'].std()  # Calculate return volatility\n",
    "cumulative_returns = (1 + portfolio_values['Returns']).cumprod()\n",
    "drawdown = cumulative_returns.cummax() - cumulative_returns  # Calculate drawdown\n",
    "max_drawdown = drawdown.max()\n",
    "\n",
    "# Output risk metrics\n",
    "volatility, max_drawdown"
   ]
  }
 ],
 "metadata": {
  "kernelspec": {
   "display_name": "Python 3 (ipykernel)",
   "language": "python",
   "name": "python3"
  },
  "language_info": {
   "codemirror_mode": {
    "name": "ipython",
    "version": 3
   },
   "file_extension": ".py",
   "mimetype": "text/x-python",
   "name": "python",
   "nbconvert_exporter": "python",
   "pygments_lexer": "ipython3",
   "version": "3.13.1"
  }
 },
 "nbformat": 4,
 "nbformat_minor": 5
}
