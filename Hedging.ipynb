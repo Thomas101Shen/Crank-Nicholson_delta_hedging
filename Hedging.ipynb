{
 "cells": [
  {
   "cell_type": "code",
   "execution_count": 1,
   "id": "ba08ae19-cbc2-4548-afe2-248fa0b76437",
   "metadata": {},
   "outputs": [],
   "source": [
    "import pandas as pd\n",
    "import numpy as np\n",
    "from scipy.optimize import bisect\n",
    "from scipy.stats import norm\n",
    "\n",
    "file_path = './Option_SPX.csv'\n",
    "data = pd.read_csv(file_path)"
   ]
  },
  {
   "cell_type": "code",
   "execution_count": 2,
   "id": "419e1d9c-dfdb-4221-a3d3-67a1b019e194",
   "metadata": {},
   "outputs": [],
   "source": [
    "\n",
    "# Black-Scholes call option pricing formula\n",
    "def black_scholes_call_price(S, K, T, r, sigma):\n",
    "    d1 = (np.log(S / K) + (r + 0.5 * sigma**2) * T) / (sigma * np.sqrt(T))\n",
    "    d2 = d1 - sigma * np.sqrt(T)\n",
    "    return S * norm.cdf(d1) - K * np.exp(-r * T) * norm.cdf(d2)\n",
    "\n",
    "# Function to calculate implied volatility\n",
    "def implied_volatility(C_mkt, S, K, T, r):\n",
    "    def objective(sigma):\n",
    "        return black_scholes_call_price(S, K, T, r, sigma) - C_mkt\n",
    "    try:\n",
    "        return bisect(objective, 1e-6, 5)  # Searching for sigma in a reasonable range\n",
    "    except ValueError:\n",
    "        return np.nan\n",
    "\n",
    "# Function to calculate Delta using the Black-Scholes model\n",
    "def black_scholes_delta(S, K, T, r, sigma):\n",
    "    d1 = (np.log(S / K) + (r + 0.5 * sigma**2) * T) / (sigma * np.sqrt(T))\n",
    "    return norm.cdf(d1)\n",
    "\n",
    "# Crank-Nicholson method for solving the Black-Scholes PDE\n",
    "def crank_nicholson(S, K, r, T, sigma, N=100, M=100):\n",
    "    dt = T / N  # Time step size\n",
    "    dx = sigma * np.sqrt(3 * dt)  # Price step size\n",
    "    pu = 0.5 * dt * ((sigma / dx)**2 + (r - 0.5 * sigma**2) / dx)\n",
    "    pm = 1 - dt * (sigma / dx)**2 - r * dt\n",
    "    pd = 0.5 * dt * ((sigma / dx)**2 - (r - 0.5 * sigma**2) / dx)\n",
    "\n",
    "    # Initialize the price grid\n",
    "    S_grid = S * np.exp(dx * (np.arange(-M, M+1)))\n",
    "    V = np.maximum(S_grid - K, 0)  # Option value at maturity\n",
    "\n",
    "    # Backward iteration to solve the PDE\n",
    "    for _ in range(N):\n",
    "        V[1:-1] = pu * V[:-2] + pm * V[1:-1] + pd * V[2:]\n",
    "        V[0] = 0  # Boundary condition at S = 0\n",
    "        V[-1] = S_grid[-1] - K  # Boundary condition at S -> infinity\n",
    "    return V[M]\n",
    "\n",
    "\n",
    "\n",
    "# In[ ]:\n",
    "\n",
    "\n",
    "\n",
    "\n"
   ]
  },
  {
   "cell_type": "code",
   "execution_count": 3,
   "id": "fd80162d-b10d-4e43-b4c1-9c56b635c2d8",
   "metadata": {},
   "outputs": [],
   "source": [
    "# Initialize strategy variables\n",
    "position = 0  # Current asset position\n",
    "cash = 0      # Cash balance\n",
    "portfolio_values = []  # Store portfolio values over time\n",
    "predicted_prices = []  # Store predicted option prices\n",
    "\n",
    "# Iterate over each row of the data to implement the hedging strategy\n",
    "for i in range(len(data)):\n",
    "    S = data['S'][i]  # Current stock price\n",
    "    K = S * np.exp(-data['Moneyness'][i] / 100)  # Calculate strike price based on Moneyness\n",
    "    T = data['TTM'][i] / 252  # Convert time to expiration to years\n",
    "    r = data['R'][i] / 100  # Convert interest rate to decimal\n",
    "    C_mkt = data['C_mkt'][i]  # Market option price\n",
    "\n",
    "    # Calculate implied volatility\n",
    "    sigma = implied_volatility(C_mkt, S, K, T, r)\n",
    "\n",
    "    # Skip this row if implied volatility could not be calculated\n",
    "    if np.isnan(sigma):\n",
    "        continue\n",
    "\n",
    "    # Calculate Delta using Crank-Nicholson if needed\n",
    "    V_up = crank_nicholson(S * 1.01, K, r, T, sigma)\n",
    "    V_down = crank_nicholson(S * 0.99, K, r, T, sigma)\n",
    "    delta = (V_up - V_down) / (S * 0.02)\n",
    "\n",
    "    # Calculate predicted option price using Crank-Nicholson\n",
    "    predicted_price = crank_nicholson(S, K, r, T, sigma)\n",
    "    predicted_prices.append(predicted_price)\n",
    "\n",
    "    # Determine the target position based on Delta\n",
    "    target_position = -delta\n",
    "    position_change = target_position - position\n",
    "\n",
    "    # Update cash and asset position\n",
    "    cash -= position_change * S\n",
    "    position = target_position\n",
    "\n",
    "    # Record portfolio value\n",
    "    portfolio_values.append(position * S + cash)"
   ]
  },
  {
   "cell_type": "code",
   "execution_count": 12,
   "id": "d01f010e-fc26-4833-9dfb-2c8aaa1e2b76",
   "metadata": {},
   "outputs": [
    {
     "name": "stdout",
     "output_type": "stream",
     "text": [
      "     Predicted Price\n",
      "0       7.114861e+04\n",
      "1       2.097305e+06\n",
      "2       5.312515e+04\n",
      "3       1.373364e+04\n",
      "4       7.379624e+03\n",
      "..               ...\n",
      "802     3.409584e+03\n",
      "803     3.197957e+03\n",
      "804     1.069971e+03\n",
      "805     1.190214e+03\n",
      "806     9.362845e+03\n",
      "\n",
      "[807 rows x 1 columns]\n"
     ]
    },
    {
     "name": "stderr",
     "output_type": "stream",
     "text": [
      "/Users/asdfasdf/HFT_Crank-Nicholson/venv/lib/python3.9/site-packages/pandas/core/nanops.py:1016: RuntimeWarning: invalid value encountered in subtract\n",
      "  sqr = _ensure_numeric((avg - values) ** 2)\n"
     ]
    },
    {
     "data": {
      "text/plain": [
       "(np.float64(nan), np.float64(inf))"
      ]
     },
     "execution_count": 12,
     "metadata": {},
     "output_type": "execute_result"
    }
   ],
   "source": [
    "# Convert portfolio values to a DataFrame for further analysis\n",
    "portfolio_values = pd.DataFrame(portfolio_values, columns=['Portfolio Value'])\n",
    "\n",
    "# Print predicted prices\n",
    "predicted_prices_df = pd.DataFrame(predicted_prices, columns=['Predicted Price'])\n",
    "print(predicted_prices_df)\n",
    "\n",
    "# Calculate risk metrics\n",
    "portfolio_values['Returns'] = portfolio_values['Portfolio Value'].pct_change().dropna()\n",
    "volatility = portfolio_values['Returns'].std()  # Calculate return volatility\n",
    "cumulative_returns = (1 + portfolio_values['Returns']).cumprod()\n",
    "drawdown = cumulative_returns.cummax() - cumulative_returns  # Calculate drawdown\n",
    "max_drawdown = drawdown.max()\n",
    "# Output risk metrics\n",
    "volatility, max_drawdown"
   ]
  }
 ],
 "metadata": {
  "kernelspec": {
   "display_name": "Python 3 (ipykernel)",
   "language": "python",
   "name": "python3"
  },
  "language_info": {
   "codemirror_mode": {
    "name": "ipython",
    "version": 3
   },
   "file_extension": ".py",
   "mimetype": "text/x-python",
   "name": "python",
   "nbconvert_exporter": "python",
   "pygments_lexer": "ipython3",
   "version": "3.9.6"
  }
 },
 "nbformat": 4,
 "nbformat_minor": 5
}
